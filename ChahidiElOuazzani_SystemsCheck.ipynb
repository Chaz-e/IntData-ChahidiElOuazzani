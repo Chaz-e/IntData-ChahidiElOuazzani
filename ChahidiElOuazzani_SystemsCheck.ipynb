{
 "cells": [
  {
   "cell_type": "markdown",
   "id": "cebfd0fe-3990-48bd-b69c-52f4ed819a03",
   "metadata": {},
   "source": [
    "# Systems Check"
   ]
  },
  {
   "cell_type": "markdown",
   "id": "b74a3fbb-7a22-4ffa-9577-fe9192145d2f",
   "metadata": {},
   "source": [
    "## What I hope to get from this class"
   ]
  },
  {
   "cell_type": "markdown",
   "id": "721a10b0-9f5f-4db2-a5f4-02576370c58b",
   "metadata": {},
   "source": [
    "- Understanding data analytics\n",
    "- Expanding my understanding of Python, Anaconda and Jupyter Notebook (*Which I already am doing currently*)\n",
    "- Finding out if I'm good with data! ~~**I am incredibly uncertain with what I want to do**~~"
   ]
  },
  {
   "cell_type": "markdown",
   "id": "c17c8594-e028-4b1a-8139-ea378b9d9247",
   "metadata": {},
   "source": [
    "## Python Syntax"
   ]
  },
  {
   "cell_type": "code",
   "execution_count": 27,
   "id": "26819adb-72d8-47ef-940d-b2a09a00345d",
   "metadata": {},
   "outputs": [
    {
     "name": "stdout",
     "output_type": "stream",
     "text": [
      "7\n"
     ]
    }
   ],
   "source": [
    "x = 3+4\n",
    "print(x)"
   ]
  },
  {
   "cell_type": "code",
   "execution_count": 33,
   "id": "7fbd34c1-eeed-48be-8c19-1dd229d19796",
   "metadata": {},
   "outputs": [
    {
     "name": "stdout",
     "output_type": "stream",
     "text": [
      "I know: C++ \n",
      "\n",
      "I know: HTML \n",
      "\n",
      "I know: Java \n",
      "\n",
      "I know: Python \n",
      "\n"
     ]
    }
   ],
   "source": [
    "y=[\"C++\", \"HTML\", \"Java\", \"Python\"]\n",
    "for w in y:\n",
    "    print('I know:', w, '\\n')"
   ]
  },
  {
   "cell_type": "code",
   "execution_count": 76,
   "id": "47fdb5cc-3261-417c-b6b6-559ceb53b315",
   "metadata": {},
   "outputs": [
    {
     "name": "stdout",
     "output_type": "stream",
     "text": [
      "Good Morning Professor\n",
      "The previous sentence has this many characters: \n",
      "22\n"
     ]
    }
   ],
   "source": [
    "def testFunct (s):\n",
    "    a, b, c= s.split()\n",
    "    print(a, b, c)\n",
    "    print ('The previous sentence has this many characters: ')\n",
    "    return len(s)\n",
    "\n",
    "\n",
    "s=\"Good Morning Professor\"\n",
    "print(testFunct(s))"
   ]
  },
  {
   "cell_type": "code",
   "execution_count": null,
   "id": "d71c6f93-13ec-49d4-bba1-a61c41be0968",
   "metadata": {},
   "outputs": [],
   "source": []
  }
 ],
 "metadata": {
  "kernelspec": {
   "display_name": "Python 3 (ipykernel)",
   "language": "python",
   "name": "python3"
  },
  "language_info": {
   "codemirror_mode": {
    "name": "ipython",
    "version": 3
   },
   "file_extension": ".py",
   "mimetype": "text/x-python",
   "name": "python",
   "nbconvert_exporter": "python",
   "pygments_lexer": "ipython3",
   "version": "3.11.7"
  }
 },
 "nbformat": 4,
 "nbformat_minor": 5
}
