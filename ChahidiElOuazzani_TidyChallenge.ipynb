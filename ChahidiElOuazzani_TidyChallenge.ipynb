{
 "cells": [
  {
   "cell_type": "code",
   "execution_count": 1,
   "id": "99a6b704-f3f4-43e4-acbd-c457e3af720c",
   "metadata": {},
   "outputs": [],
   "source": [
    "import pandas as pd\n",
    "import json\n",
    "import math"
   ]
  },
  {
   "cell_type": "code",
   "execution_count": 2,
   "id": "7b409417-fc3c-440c-baec-a7f1a14dc578",
   "metadata": {},
   "outputs": [],
   "source": [
    "reference_path = 'chessbuds_messages.json'\n",
    "with open('chessbuds_messages.json') as ch:\n",
    "    cm_dict = json.load(ch)"
   ]
  },
  {
   "cell_type": "code",
   "execution_count": 3,
   "id": "89e817a5-a26f-491b-9fba-94f103ed2430",
   "metadata": {},
   "outputs": [
    {
     "data": {
      "text/plain": [
       "dict"
      ]
     },
     "execution_count": 3,
     "metadata": {},
     "output_type": "execute_result"
    }
   ],
   "source": [
    "type(cm_dict)"
   ]
  },
  {
   "cell_type": "code",
   "execution_count": 4,
   "id": "9ee91314-7b3d-4d96-9834-b3588f3a2929",
   "metadata": {},
   "outputs": [
    {
     "data": {
      "text/plain": [
       "dict_keys(['participants', 'messages', 'title', 'is_still_participant', 'thread_type', 'thread_path', 'magic_words', 'joinable_mode'])"
      ]
     },
     "execution_count": 4,
     "metadata": {},
     "output_type": "execute_result"
    }
   ],
   "source": [
    "cm_dict.keys()"
   ]
  },
  {
   "cell_type": "code",
   "execution_count": 5,
   "id": "ea75fce5-cad4-4ea9-a4a1-05517824a8b2",
   "metadata": {},
   "outputs": [
    {
     "data": {
      "text/plain": [
       "list"
      ]
     },
     "execution_count": 5,
     "metadata": {},
     "output_type": "execute_result"
    }
   ],
   "source": [
    "type(cm_dict['participants'])"
   ]
  },
  {
   "cell_type": "code",
   "execution_count": 6,
   "id": "f5e982ab-fd2e-4025-9ad7-306e9b274e79",
   "metadata": {},
   "outputs": [
    {
     "data": {
      "text/plain": [
       "list"
      ]
     },
     "execution_count": 6,
     "metadata": {},
     "output_type": "execute_result"
    }
   ],
   "source": [
    "type(cm_dict['messages'])"
   ]
  },
  {
   "cell_type": "code",
   "execution_count": 7,
   "id": "42d7a35a-b7fb-4eec-a325-bcc40ad90262",
   "metadata": {},
   "outputs": [
    {
     "data": {
      "text/plain": [
       "str"
      ]
     },
     "execution_count": 7,
     "metadata": {},
     "output_type": "execute_result"
    }
   ],
   "source": [
    "type(cm_dict['title'])"
   ]
  },
  {
   "cell_type": "code",
   "execution_count": 8,
   "id": "c4672f8d-7e6d-4d8e-baa9-184688de7d51",
   "metadata": {},
   "outputs": [
    {
     "data": {
      "text/plain": [
       "bool"
      ]
     },
     "execution_count": 8,
     "metadata": {},
     "output_type": "execute_result"
    }
   ],
   "source": [
    "type(cm_dict['is_still_participant'])"
   ]
  },
  {
   "cell_type": "code",
   "execution_count": 9,
   "id": "eaadf9cd-5f48-4a06-a5f2-9f1608feb9fa",
   "metadata": {},
   "outputs": [
    {
     "data": {
      "text/plain": [
       "str"
      ]
     },
     "execution_count": 9,
     "metadata": {},
     "output_type": "execute_result"
    }
   ],
   "source": [
    "type(cm_dict['thread_type'])"
   ]
  },
  {
   "cell_type": "code",
   "execution_count": 10,
   "id": "a1ce2819-ab42-42ca-82cf-a3508acec004",
   "metadata": {},
   "outputs": [
    {
     "data": {
      "text/plain": [
       "str"
      ]
     },
     "execution_count": 10,
     "metadata": {},
     "output_type": "execute_result"
    }
   ],
   "source": [
    "type(cm_dict['thread_path'])"
   ]
  },
  {
   "cell_type": "code",
   "execution_count": 11,
   "id": "1b10061b-07f2-4f01-9970-ac7526afb04b",
   "metadata": {},
   "outputs": [
    {
     "data": {
      "text/plain": [
       "list"
      ]
     },
     "execution_count": 11,
     "metadata": {},
     "output_type": "execute_result"
    }
   ],
   "source": [
    "type(cm_dict['magic_words'])"
   ]
  },
  {
   "cell_type": "code",
   "execution_count": 12,
   "id": "f13821b2-d723-438f-9027-c0165ba3d52e",
   "metadata": {},
   "outputs": [
    {
     "data": {
      "text/plain": [
       "dict"
      ]
     },
     "execution_count": 12,
     "metadata": {},
     "output_type": "execute_result"
    }
   ],
   "source": [
    "type(cm_dict['joinable_mode'])"
   ]
  },
  {
   "cell_type": "code",
   "execution_count": 13,
   "id": "16c4232a-ed9e-4fe5-8ad3-073f8a2d8e3a",
   "metadata": {},
   "outputs": [
    {
     "data": {
      "text/plain": [
       "dict_keys(['mode', 'link'])"
      ]
     },
     "execution_count": 13,
     "metadata": {},
     "output_type": "execute_result"
    }
   ],
   "source": [
    "cm_dict['joinable_mode'].keys()"
   ]
  },
  {
   "cell_type": "code",
   "execution_count": 14,
   "id": "48db26dd-84da-494c-9611-0ec1a6fbabec",
   "metadata": {},
   "outputs": [
    {
     "data": {
      "text/plain": [
       "int"
      ]
     },
     "execution_count": 14,
     "metadata": {},
     "output_type": "execute_result"
    }
   ],
   "source": [
    "type(cm_dict['joinable_mode']['mode'])"
   ]
  },
  {
   "cell_type": "code",
   "execution_count": 15,
   "id": "88fc9196-45d5-4634-adc7-dbcea9217304",
   "metadata": {},
   "outputs": [
    {
     "data": {
      "text/plain": [
       "str"
      ]
     },
     "execution_count": 15,
     "metadata": {},
     "output_type": "execute_result"
    }
   ],
   "source": [
    "type(cm_dict['joinable_mode']['link'])"
   ]
  },
  {
   "cell_type": "code",
   "execution_count": 16,
   "id": "21438574-8aa4-471e-b4d7-1b70dd76d2f1",
   "metadata": {},
   "outputs": [
    {
     "data": {
      "text/plain": [
       "0"
      ]
     },
     "execution_count": 16,
     "metadata": {},
     "output_type": "execute_result"
    }
   ],
   "source": [
    "len(cm_dict['magic_words'])"
   ]
  },
  {
   "cell_type": "code",
   "execution_count": 17,
   "id": "97910577-5f7f-4d23-8285-9dfbc0e60727",
   "metadata": {},
   "outputs": [
    {
     "data": {
      "text/plain": [
       "''"
      ]
     },
     "execution_count": 17,
     "metadata": {},
     "output_type": "execute_result"
    }
   ],
   "source": [
    "cm_dict['joinable_mode']['link']"
   ]
  },
  {
   "cell_type": "code",
   "execution_count": 18,
   "id": "9187ba05-5a5c-44ef-a338-340040b36f52",
   "metadata": {},
   "outputs": [
    {
     "data": {
      "text/plain": [
       "dict"
      ]
     },
     "execution_count": 18,
     "metadata": {},
     "output_type": "execute_result"
    }
   ],
   "source": [
    "type(cm_dict['messages'][0])"
   ]
  },
  {
   "cell_type": "code",
   "execution_count": 19,
   "id": "322e4e96-92ba-40e5-b49b-9ce8c0e43560",
   "metadata": {},
   "outputs": [
    {
     "data": {
      "text/plain": [
       "dict"
      ]
     },
     "execution_count": 19,
     "metadata": {},
     "output_type": "execute_result"
    }
   ],
   "source": [
    "type(cm_dict['messages'][1])"
   ]
  },
  {
   "cell_type": "code",
   "execution_count": 20,
   "id": "0544a663-3643-4205-9e7b-69de25baa4db",
   "metadata": {},
   "outputs": [
    {
     "data": {
      "text/plain": [
       "{'sender_name': 'Chad Larson',\n",
       " 'timestamp_ms': 1666373448613,\n",
       " 'content': 'To be fair to Hans....no one wants to be associated with an \"anal bead\" theory.',\n",
       " 'reactions': [{'reaction': 'ð\\x9f\\x98\\x86', 'actor': 'Scott Pence'},\n",
       "  {'reaction': 'ð\\x9f\\x98\\x86', 'actor': 'Scott Pence'}],\n",
       " 'type': 'Generic',\n",
       " 'is_unsent': False,\n",
       " 'is_taken_down': False,\n",
       " 'bumped_message_metadata': {'bumped_message': 'To be fair to Hans....no one wants to be associated with an \"anal bead\" theory.',\n",
       "  'is_bumped': False}}"
      ]
     },
     "execution_count": 20,
     "metadata": {},
     "output_type": "execute_result"
    }
   ],
   "source": [
    "cm_dict['messages'][1]"
   ]
  },
  {
   "cell_type": "code",
   "execution_count": 21,
   "id": "b3eb02ac-ce29-45a4-9fac-3d958cba105b",
   "metadata": {},
   "outputs": [
    {
     "data": {
      "text/html": [
       "<div>\n",
       "<style scoped>\n",
       "    .dataframe tbody tr th:only-of-type {\n",
       "        vertical-align: middle;\n",
       "    }\n",
       "\n",
       "    .dataframe tbody tr th {\n",
       "        vertical-align: top;\n",
       "    }\n",
       "\n",
       "    .dataframe thead th {\n",
       "        text-align: right;\n",
       "    }\n",
       "</style>\n",
       "<table border=\"1\" class=\"dataframe\">\n",
       "  <thead>\n",
       "    <tr style=\"text-align: right;\">\n",
       "      <th></th>\n",
       "      <th>sender_name</th>\n",
       "      <th>timestamp_ms</th>\n",
       "      <th>content</th>\n",
       "      <th>reactions</th>\n",
       "      <th>type</th>\n",
       "      <th>is_unsent</th>\n",
       "      <th>is_taken_down</th>\n",
       "      <th>bumped_message_metadata</th>\n",
       "      <th>share</th>\n",
       "      <th>photos</th>\n",
       "      <th>gifs</th>\n",
       "      <th>users</th>\n",
       "    </tr>\n",
       "  </thead>\n",
       "  <tbody>\n",
       "    <tr>\n",
       "      <th>0</th>\n",
       "      <td>Joanna Rusch</td>\n",
       "      <td>1666374933946</td>\n",
       "      <td>Maybe he just wants to ride the publicity for ...</td>\n",
       "      <td>[{'reaction': 'ð', 'actor': 'Chad Larson'},...</td>\n",
       "      <td>Generic</td>\n",
       "      <td>False</td>\n",
       "      <td>False</td>\n",
       "      <td>{'bumped_message': 'Maybe he just wants to rid...</td>\n",
       "      <td>NaN</td>\n",
       "      <td>NaN</td>\n",
       "      <td>NaN</td>\n",
       "      <td>NaN</td>\n",
       "    </tr>\n",
       "    <tr>\n",
       "      <th>1</th>\n",
       "      <td>Chad Larson</td>\n",
       "      <td>1666373448613</td>\n",
       "      <td>To be fair to Hans....no one wants to be assoc...</td>\n",
       "      <td>[{'reaction': 'ð', 'actor': 'Scott Pence'},...</td>\n",
       "      <td>Generic</td>\n",
       "      <td>False</td>\n",
       "      <td>False</td>\n",
       "      <td>{'bumped_message': 'To be fair to Hans....no o...</td>\n",
       "      <td>NaN</td>\n",
       "      <td>NaN</td>\n",
       "      <td>NaN</td>\n",
       "      <td>NaN</td>\n",
       "    </tr>\n",
       "    <tr>\n",
       "      <th>2</th>\n",
       "      <td>Chad Larson</td>\n",
       "      <td>1666373216381</td>\n",
       "      <td>He would have to prove he didn't cheat and tha...</td>\n",
       "      <td>[{'reaction': 'ð', 'actor': 'Scott Pence'},...</td>\n",
       "      <td>Generic</td>\n",
       "      <td>False</td>\n",
       "      <td>False</td>\n",
       "      <td>{'bumped_message': 'He would have to prove he ...</td>\n",
       "      <td>NaN</td>\n",
       "      <td>NaN</td>\n",
       "      <td>NaN</td>\n",
       "      <td>NaN</td>\n",
       "    </tr>\n",
       "    <tr>\n",
       "      <th>3</th>\n",
       "      <td>Scott Pence</td>\n",
       "      <td>1666373164883</td>\n",
       "      <td>Yeah, no way. You over shoot and hope to get a...</td>\n",
       "      <td>[{'reaction': 'ð', 'actor': 'Chad Larson'},...</td>\n",
       "      <td>Generic</td>\n",
       "      <td>False</td>\n",
       "      <td>False</td>\n",
       "      <td>{'bumped_message': 'Yeah, no way. You over sho...</td>\n",
       "      <td>NaN</td>\n",
       "      <td>NaN</td>\n",
       "      <td>NaN</td>\n",
       "      <td>NaN</td>\n",
       "    </tr>\n",
       "    <tr>\n",
       "      <th>4</th>\n",
       "      <td>Chad Larson</td>\n",
       "      <td>1666373111157</td>\n",
       "      <td>From what I see, I don't think he could win.  ...</td>\n",
       "      <td>NaN</td>\n",
       "      <td>Generic</td>\n",
       "      <td>False</td>\n",
       "      <td>False</td>\n",
       "      <td>{'bumped_message': 'From what I see, I don't t...</td>\n",
       "      <td>NaN</td>\n",
       "      <td>NaN</td>\n",
       "      <td>NaN</td>\n",
       "      <td>NaN</td>\n",
       "    </tr>\n",
       "  </tbody>\n",
       "</table>\n",
       "</div>"
      ],
      "text/plain": [
       "    sender_name   timestamp_ms  \\\n",
       "0  Joanna Rusch  1666374933946   \n",
       "1   Chad Larson  1666373448613   \n",
       "2   Chad Larson  1666373216381   \n",
       "3   Scott Pence  1666373164883   \n",
       "4   Chad Larson  1666373111157   \n",
       "\n",
       "                                             content  \\\n",
       "0  Maybe he just wants to ride the publicity for ...   \n",
       "1  To be fair to Hans....no one wants to be assoc...   \n",
       "2  He would have to prove he didn't cheat and tha...   \n",
       "3  Yeah, no way. You over shoot and hope to get a...   \n",
       "4  From what I see, I don't think he could win.  ...   \n",
       "\n",
       "                                           reactions     type  is_unsent  \\\n",
       "0  [{'reaction': 'ð', 'actor': 'Chad Larson'},...  Generic      False   \n",
       "1  [{'reaction': 'ð', 'actor': 'Scott Pence'},...  Generic      False   \n",
       "2  [{'reaction': 'ð', 'actor': 'Scott Pence'},...  Generic      False   \n",
       "3  [{'reaction': 'ð', 'actor': 'Chad Larson'},...  Generic      False   \n",
       "4                                                NaN  Generic      False   \n",
       "\n",
       "   is_taken_down                            bumped_message_metadata share  \\\n",
       "0          False  {'bumped_message': 'Maybe he just wants to rid...   NaN   \n",
       "1          False  {'bumped_message': 'To be fair to Hans....no o...   NaN   \n",
       "2          False  {'bumped_message': 'He would have to prove he ...   NaN   \n",
       "3          False  {'bumped_message': 'Yeah, no way. You over sho...   NaN   \n",
       "4          False  {'bumped_message': 'From what I see, I don't t...   NaN   \n",
       "\n",
       "  photos gifs users  \n",
       "0    NaN  NaN   NaN  \n",
       "1    NaN  NaN   NaN  \n",
       "2    NaN  NaN   NaN  \n",
       "3    NaN  NaN   NaN  \n",
       "4    NaN  NaN   NaN  "
      ]
     },
     "execution_count": 21,
     "metadata": {},
     "output_type": "execute_result"
    }
   ],
   "source": [
    "cm_df = pd.DataFrame(cm_dict['messages'])\n",
    "cm_df.head()"
   ]
  },
  {
   "cell_type": "markdown",
   "id": "fc89350c-8211-4daf-b476-00f087b8c606",
   "metadata": {},
   "source": [
    "### The above dataframe seems to include messages, with the name of the sender, the timestamp and the content as the original \"message\", as well as the reactions from other users. The \"bumped_message_metadata\" seems, at first glance, to be just the \"content\" column in an usable format for data analytics purposes."
   ]
  },
  {
   "cell_type": "code",
   "execution_count": 23,
   "id": "ec59aa07-1281-4b76-bb66-51370df12c24",
   "metadata": {},
   "outputs": [
    {
     "data": {
      "text/plain": [
       "pandas.core.indexing._iLocIndexer"
      ]
     },
     "execution_count": 23,
     "metadata": {},
     "output_type": "execute_result"
    }
   ],
   "source": [
    "type(cm_df['content'].iloc(0))"
   ]
  },
  {
   "cell_type": "code",
   "execution_count": 24,
   "id": "02bec3f9-25b0-43ae-b113-b3db4a91721e",
   "metadata": {},
   "outputs": [
    {
     "data": {
      "text/plain": [
       "<pandas.core.indexing._iLocIndexer at 0x1dc5ef87020>"
      ]
     },
     "execution_count": 24,
     "metadata": {},
     "output_type": "execute_result"
    }
   ],
   "source": [
    "cm_df['content'].iloc(0)"
   ]
  },
  {
   "cell_type": "code",
   "execution_count": 25,
   "id": "1d782e31-adc3-42fa-b37f-61d3038f7d0f",
   "metadata": {},
   "outputs": [
    {
     "data": {
      "text/html": [
       "<div>\n",
       "<style scoped>\n",
       "    .dataframe tbody tr th:only-of-type {\n",
       "        vertical-align: middle;\n",
       "    }\n",
       "\n",
       "    .dataframe tbody tr th {\n",
       "        vertical-align: top;\n",
       "    }\n",
       "\n",
       "    .dataframe thead th {\n",
       "        text-align: right;\n",
       "    }\n",
       "</style>\n",
       "<table border=\"1\" class=\"dataframe\">\n",
       "  <thead>\n",
       "    <tr style=\"text-align: right;\">\n",
       "      <th></th>\n",
       "      <th>sender_name</th>\n",
       "      <th>timestamp_ms</th>\n",
       "      <th>content</th>\n",
       "      <th>reactions</th>\n",
       "      <th>type</th>\n",
       "      <th>is_unsent</th>\n",
       "      <th>is_taken_down</th>\n",
       "      <th>bumped_message_metadata</th>\n",
       "      <th>share</th>\n",
       "      <th>photos</th>\n",
       "      <th>gifs</th>\n",
       "      <th>users</th>\n",
       "    </tr>\n",
       "  </thead>\n",
       "  <tbody>\n",
       "    <tr>\n",
       "      <th>0</th>\n",
       "      <td>Joanna Rusch</td>\n",
       "      <td>1666374933946</td>\n",
       "      <td>Maybe he just wants to ride the publicity for ...</td>\n",
       "      <td>[{'reaction': 'ð', 'actor': 'Chad Larson'},...</td>\n",
       "      <td>Generic</td>\n",
       "      <td>False</td>\n",
       "      <td>False</td>\n",
       "      <td>{'bumped_message': 'Maybe he just wants to rid...</td>\n",
       "      <td>NaN</td>\n",
       "      <td>NaN</td>\n",
       "      <td>NaN</td>\n",
       "      <td>NaN</td>\n",
       "    </tr>\n",
       "    <tr>\n",
       "      <th>1</th>\n",
       "      <td>Chad Larson</td>\n",
       "      <td>1666373448613</td>\n",
       "      <td>To be fair to Hans....no one wants to be assoc...</td>\n",
       "      <td>[{'reaction': 'ð', 'actor': 'Scott Pence'},...</td>\n",
       "      <td>Generic</td>\n",
       "      <td>False</td>\n",
       "      <td>False</td>\n",
       "      <td>{'bumped_message': 'To be fair to Hans....no o...</td>\n",
       "      <td>NaN</td>\n",
       "      <td>NaN</td>\n",
       "      <td>NaN</td>\n",
       "      <td>NaN</td>\n",
       "    </tr>\n",
       "    <tr>\n",
       "      <th>2</th>\n",
       "      <td>Chad Larson</td>\n",
       "      <td>1666373216381</td>\n",
       "      <td>He would have to prove he didn't cheat and tha...</td>\n",
       "      <td>[{'reaction': 'ð', 'actor': 'Scott Pence'},...</td>\n",
       "      <td>Generic</td>\n",
       "      <td>False</td>\n",
       "      <td>False</td>\n",
       "      <td>{'bumped_message': 'He would have to prove he ...</td>\n",
       "      <td>NaN</td>\n",
       "      <td>NaN</td>\n",
       "      <td>NaN</td>\n",
       "      <td>NaN</td>\n",
       "    </tr>\n",
       "    <tr>\n",
       "      <th>3</th>\n",
       "      <td>Scott Pence</td>\n",
       "      <td>1666373164883</td>\n",
       "      <td>Yeah, no way. You over shoot and hope to get a...</td>\n",
       "      <td>[{'reaction': 'ð', 'actor': 'Chad Larson'},...</td>\n",
       "      <td>Generic</td>\n",
       "      <td>False</td>\n",
       "      <td>False</td>\n",
       "      <td>{'bumped_message': 'Yeah, no way. You over sho...</td>\n",
       "      <td>NaN</td>\n",
       "      <td>NaN</td>\n",
       "      <td>NaN</td>\n",
       "      <td>NaN</td>\n",
       "    </tr>\n",
       "    <tr>\n",
       "      <th>4</th>\n",
       "      <td>Chad Larson</td>\n",
       "      <td>1666373111157</td>\n",
       "      <td>From what I see, I don't think he could win.  ...</td>\n",
       "      <td>NaN</td>\n",
       "      <td>Generic</td>\n",
       "      <td>False</td>\n",
       "      <td>False</td>\n",
       "      <td>{'bumped_message': 'From what I see, I don't t...</td>\n",
       "      <td>NaN</td>\n",
       "      <td>NaN</td>\n",
       "      <td>NaN</td>\n",
       "      <td>NaN</td>\n",
       "    </tr>\n",
       "    <tr>\n",
       "      <th>...</th>\n",
       "      <td>...</td>\n",
       "      <td>...</td>\n",
       "      <td>...</td>\n",
       "      <td>...</td>\n",
       "      <td>...</td>\n",
       "      <td>...</td>\n",
       "      <td>...</td>\n",
       "      <td>...</td>\n",
       "      <td>...</td>\n",
       "      <td>...</td>\n",
       "      <td>...</td>\n",
       "      <td>...</td>\n",
       "    </tr>\n",
       "    <tr>\n",
       "      <th>218</th>\n",
       "      <td>Scott Pence</td>\n",
       "      <td>1615855643693</td>\n",
       "      <td>Thank you, thank you.</td>\n",
       "      <td>NaN</td>\n",
       "      <td>Generic</td>\n",
       "      <td>False</td>\n",
       "      <td>False</td>\n",
       "      <td>{'bumped_message': 'Thank you, thank you.', 'i...</td>\n",
       "      <td>NaN</td>\n",
       "      <td>NaN</td>\n",
       "      <td>NaN</td>\n",
       "      <td>NaN</td>\n",
       "    </tr>\n",
       "    <tr>\n",
       "      <th>219</th>\n",
       "      <td>Scott Pence</td>\n",
       "      <td>1615855620614</td>\n",
       "      <td>NaN</td>\n",
       "      <td>[{'reaction': 'ð', 'actor': 'Chad Larson'}]</td>\n",
       "      <td>Generic</td>\n",
       "      <td>False</td>\n",
       "      <td>False</td>\n",
       "      <td>{'bumped_message': '', 'is_bumped': False}</td>\n",
       "      <td>NaN</td>\n",
       "      <td>NaN</td>\n",
       "      <td>[{'uri': 'messages/inbox/chessbuds_npjakt9u1g/...</td>\n",
       "      <td>NaN</td>\n",
       "    </tr>\n",
       "    <tr>\n",
       "      <th>220</th>\n",
       "      <td>Chad Larson</td>\n",
       "      <td>1615854725212</td>\n",
       "      <td>Chad Larson added Angela Babbitt Pence to the ...</td>\n",
       "      <td>NaN</td>\n",
       "      <td>Subscribe</td>\n",
       "      <td>False</td>\n",
       "      <td>False</td>\n",
       "      <td>{'is_bumped': False}</td>\n",
       "      <td>NaN</td>\n",
       "      <td>NaN</td>\n",
       "      <td>NaN</td>\n",
       "      <td>[{'name': 'Angela Babbitt Pence'}]</td>\n",
       "    </tr>\n",
       "    <tr>\n",
       "      <th>221</th>\n",
       "      <td>Chad Larson</td>\n",
       "      <td>1615854680797</td>\n",
       "      <td>Scott studied my games, did a specific opening...</td>\n",
       "      <td>NaN</td>\n",
       "      <td>Generic</td>\n",
       "      <td>False</td>\n",
       "      <td>False</td>\n",
       "      <td>{'bumped_message': 'Scott studied my games, di...</td>\n",
       "      <td>NaN</td>\n",
       "      <td>NaN</td>\n",
       "      <td>NaN</td>\n",
       "      <td>NaN</td>\n",
       "    </tr>\n",
       "    <tr>\n",
       "      <th>222</th>\n",
       "      <td>Chad Larson</td>\n",
       "      <td>1615854650355</td>\n",
       "      <td>Chad named the group Chess Buds.</td>\n",
       "      <td>NaN</td>\n",
       "      <td>Generic</td>\n",
       "      <td>False</td>\n",
       "      <td>False</td>\n",
       "      <td>{'is_bumped': False}</td>\n",
       "      <td>NaN</td>\n",
       "      <td>NaN</td>\n",
       "      <td>NaN</td>\n",
       "      <td>NaN</td>\n",
       "    </tr>\n",
       "  </tbody>\n",
       "</table>\n",
       "<p>223 rows × 12 columns</p>\n",
       "</div>"
      ],
      "text/plain": [
       "      sender_name   timestamp_ms  \\\n",
       "0    Joanna Rusch  1666374933946   \n",
       "1     Chad Larson  1666373448613   \n",
       "2     Chad Larson  1666373216381   \n",
       "3     Scott Pence  1666373164883   \n",
       "4     Chad Larson  1666373111157   \n",
       "..            ...            ...   \n",
       "218   Scott Pence  1615855643693   \n",
       "219   Scott Pence  1615855620614   \n",
       "220   Chad Larson  1615854725212   \n",
       "221   Chad Larson  1615854680797   \n",
       "222   Chad Larson  1615854650355   \n",
       "\n",
       "                                               content  \\\n",
       "0    Maybe he just wants to ride the publicity for ...   \n",
       "1    To be fair to Hans....no one wants to be assoc...   \n",
       "2    He would have to prove he didn't cheat and tha...   \n",
       "3    Yeah, no way. You over shoot and hope to get a...   \n",
       "4    From what I see, I don't think he could win.  ...   \n",
       "..                                                 ...   \n",
       "218                              Thank you, thank you.   \n",
       "219                                                NaN   \n",
       "220  Chad Larson added Angela Babbitt Pence to the ...   \n",
       "221  Scott studied my games, did a specific opening...   \n",
       "222                   Chad named the group Chess Buds.   \n",
       "\n",
       "                                             reactions       type  is_unsent  \\\n",
       "0    [{'reaction': 'ð', 'actor': 'Chad Larson'},...    Generic      False   \n",
       "1    [{'reaction': 'ð', 'actor': 'Scott Pence'},...    Generic      False   \n",
       "2    [{'reaction': 'ð', 'actor': 'Scott Pence'},...    Generic      False   \n",
       "3    [{'reaction': 'ð', 'actor': 'Chad Larson'},...    Generic      False   \n",
       "4                                                  NaN    Generic      False   \n",
       "..                                                 ...        ...        ...   \n",
       "218                                                NaN    Generic      False   \n",
       "219     [{'reaction': 'ð', 'actor': 'Chad Larson'}]    Generic      False   \n",
       "220                                                NaN  Subscribe      False   \n",
       "221                                                NaN    Generic      False   \n",
       "222                                                NaN    Generic      False   \n",
       "\n",
       "     is_taken_down                            bumped_message_metadata share  \\\n",
       "0            False  {'bumped_message': 'Maybe he just wants to rid...   NaN   \n",
       "1            False  {'bumped_message': 'To be fair to Hans....no o...   NaN   \n",
       "2            False  {'bumped_message': 'He would have to prove he ...   NaN   \n",
       "3            False  {'bumped_message': 'Yeah, no way. You over sho...   NaN   \n",
       "4            False  {'bumped_message': 'From what I see, I don't t...   NaN   \n",
       "..             ...                                                ...   ...   \n",
       "218          False  {'bumped_message': 'Thank you, thank you.', 'i...   NaN   \n",
       "219          False         {'bumped_message': '', 'is_bumped': False}   NaN   \n",
       "220          False                               {'is_bumped': False}   NaN   \n",
       "221          False  {'bumped_message': 'Scott studied my games, di...   NaN   \n",
       "222          False                               {'is_bumped': False}   NaN   \n",
       "\n",
       "    photos                                               gifs  \\\n",
       "0      NaN                                                NaN   \n",
       "1      NaN                                                NaN   \n",
       "2      NaN                                                NaN   \n",
       "3      NaN                                                NaN   \n",
       "4      NaN                                                NaN   \n",
       "..     ...                                                ...   \n",
       "218    NaN                                                NaN   \n",
       "219    NaN  [{'uri': 'messages/inbox/chessbuds_npjakt9u1g/...   \n",
       "220    NaN                                                NaN   \n",
       "221    NaN                                                NaN   \n",
       "222    NaN                                                NaN   \n",
       "\n",
       "                                  users  \n",
       "0                                   NaN  \n",
       "1                                   NaN  \n",
       "2                                   NaN  \n",
       "3                                   NaN  \n",
       "4                                   NaN  \n",
       "..                                  ...  \n",
       "218                                 NaN  \n",
       "219                                 NaN  \n",
       "220  [{'name': 'Angela Babbitt Pence'}]  \n",
       "221                                 NaN  \n",
       "222                                 NaN  \n",
       "\n",
       "[223 rows x 12 columns]"
      ]
     },
     "execution_count": 25,
     "metadata": {},
     "output_type": "execute_result"
    }
   ],
   "source": [
    "cm_df"
   ]
  },
  {
   "cell_type": "code",
   "execution_count": 26,
   "id": "869e557b-ff78-408d-937f-7c68492e5bb2",
   "metadata": {},
   "outputs": [],
   "source": [
    "cm_df_tidy = cm_df.drop(columns = ['is_unsent', 'is_taken_down','bumped_message_metadata'])"
   ]
  },
  {
   "cell_type": "code",
   "execution_count": 27,
   "id": "e16b29eb-0eb7-4a82-a33e-af9f2dcff632",
   "metadata": {},
   "outputs": [
    {
     "data": {
      "text/html": [
       "<div>\n",
       "<style scoped>\n",
       "    .dataframe tbody tr th:only-of-type {\n",
       "        vertical-align: middle;\n",
       "    }\n",
       "\n",
       "    .dataframe tbody tr th {\n",
       "        vertical-align: top;\n",
       "    }\n",
       "\n",
       "    .dataframe thead th {\n",
       "        text-align: right;\n",
       "    }\n",
       "</style>\n",
       "<table border=\"1\" class=\"dataframe\">\n",
       "  <thead>\n",
       "    <tr style=\"text-align: right;\">\n",
       "      <th></th>\n",
       "      <th>sender_name</th>\n",
       "      <th>timestamp_ms</th>\n",
       "      <th>content</th>\n",
       "      <th>reactions</th>\n",
       "      <th>type</th>\n",
       "      <th>share</th>\n",
       "      <th>photos</th>\n",
       "      <th>gifs</th>\n",
       "      <th>users</th>\n",
       "    </tr>\n",
       "  </thead>\n",
       "  <tbody>\n",
       "    <tr>\n",
       "      <th>0</th>\n",
       "      <td>Joanna Rusch</td>\n",
       "      <td>1666374933946</td>\n",
       "      <td>Maybe he just wants to ride the publicity for ...</td>\n",
       "      <td>[{'reaction': 'ð', 'actor': 'Chad Larson'},...</td>\n",
       "      <td>Generic</td>\n",
       "      <td>NaN</td>\n",
       "      <td>NaN</td>\n",
       "      <td>NaN</td>\n",
       "      <td>NaN</td>\n",
       "    </tr>\n",
       "    <tr>\n",
       "      <th>1</th>\n",
       "      <td>Chad Larson</td>\n",
       "      <td>1666373448613</td>\n",
       "      <td>To be fair to Hans....no one wants to be assoc...</td>\n",
       "      <td>[{'reaction': 'ð', 'actor': 'Scott Pence'},...</td>\n",
       "      <td>Generic</td>\n",
       "      <td>NaN</td>\n",
       "      <td>NaN</td>\n",
       "      <td>NaN</td>\n",
       "      <td>NaN</td>\n",
       "    </tr>\n",
       "    <tr>\n",
       "      <th>2</th>\n",
       "      <td>Chad Larson</td>\n",
       "      <td>1666373216381</td>\n",
       "      <td>He would have to prove he didn't cheat and tha...</td>\n",
       "      <td>[{'reaction': 'ð', 'actor': 'Scott Pence'},...</td>\n",
       "      <td>Generic</td>\n",
       "      <td>NaN</td>\n",
       "      <td>NaN</td>\n",
       "      <td>NaN</td>\n",
       "      <td>NaN</td>\n",
       "    </tr>\n",
       "    <tr>\n",
       "      <th>3</th>\n",
       "      <td>Scott Pence</td>\n",
       "      <td>1666373164883</td>\n",
       "      <td>Yeah, no way. You over shoot and hope to get a...</td>\n",
       "      <td>[{'reaction': 'ð', 'actor': 'Chad Larson'},...</td>\n",
       "      <td>Generic</td>\n",
       "      <td>NaN</td>\n",
       "      <td>NaN</td>\n",
       "      <td>NaN</td>\n",
       "      <td>NaN</td>\n",
       "    </tr>\n",
       "    <tr>\n",
       "      <th>4</th>\n",
       "      <td>Chad Larson</td>\n",
       "      <td>1666373111157</td>\n",
       "      <td>From what I see, I don't think he could win.  ...</td>\n",
       "      <td>NaN</td>\n",
       "      <td>Generic</td>\n",
       "      <td>NaN</td>\n",
       "      <td>NaN</td>\n",
       "      <td>NaN</td>\n",
       "      <td>NaN</td>\n",
       "    </tr>\n",
       "    <tr>\n",
       "      <th>...</th>\n",
       "      <td>...</td>\n",
       "      <td>...</td>\n",
       "      <td>...</td>\n",
       "      <td>...</td>\n",
       "      <td>...</td>\n",
       "      <td>...</td>\n",
       "      <td>...</td>\n",
       "      <td>...</td>\n",
       "      <td>...</td>\n",
       "    </tr>\n",
       "    <tr>\n",
       "      <th>218</th>\n",
       "      <td>Scott Pence</td>\n",
       "      <td>1615855643693</td>\n",
       "      <td>Thank you, thank you.</td>\n",
       "      <td>NaN</td>\n",
       "      <td>Generic</td>\n",
       "      <td>NaN</td>\n",
       "      <td>NaN</td>\n",
       "      <td>NaN</td>\n",
       "      <td>NaN</td>\n",
       "    </tr>\n",
       "    <tr>\n",
       "      <th>219</th>\n",
       "      <td>Scott Pence</td>\n",
       "      <td>1615855620614</td>\n",
       "      <td>NaN</td>\n",
       "      <td>[{'reaction': 'ð', 'actor': 'Chad Larson'}]</td>\n",
       "      <td>Generic</td>\n",
       "      <td>NaN</td>\n",
       "      <td>NaN</td>\n",
       "      <td>[{'uri': 'messages/inbox/chessbuds_npjakt9u1g/...</td>\n",
       "      <td>NaN</td>\n",
       "    </tr>\n",
       "    <tr>\n",
       "      <th>220</th>\n",
       "      <td>Chad Larson</td>\n",
       "      <td>1615854725212</td>\n",
       "      <td>Chad Larson added Angela Babbitt Pence to the ...</td>\n",
       "      <td>NaN</td>\n",
       "      <td>Subscribe</td>\n",
       "      <td>NaN</td>\n",
       "      <td>NaN</td>\n",
       "      <td>NaN</td>\n",
       "      <td>[{'name': 'Angela Babbitt Pence'}]</td>\n",
       "    </tr>\n",
       "    <tr>\n",
       "      <th>221</th>\n",
       "      <td>Chad Larson</td>\n",
       "      <td>1615854680797</td>\n",
       "      <td>Scott studied my games, did a specific opening...</td>\n",
       "      <td>NaN</td>\n",
       "      <td>Generic</td>\n",
       "      <td>NaN</td>\n",
       "      <td>NaN</td>\n",
       "      <td>NaN</td>\n",
       "      <td>NaN</td>\n",
       "    </tr>\n",
       "    <tr>\n",
       "      <th>222</th>\n",
       "      <td>Chad Larson</td>\n",
       "      <td>1615854650355</td>\n",
       "      <td>Chad named the group Chess Buds.</td>\n",
       "      <td>NaN</td>\n",
       "      <td>Generic</td>\n",
       "      <td>NaN</td>\n",
       "      <td>NaN</td>\n",
       "      <td>NaN</td>\n",
       "      <td>NaN</td>\n",
       "    </tr>\n",
       "  </tbody>\n",
       "</table>\n",
       "<p>223 rows × 9 columns</p>\n",
       "</div>"
      ],
      "text/plain": [
       "      sender_name   timestamp_ms  \\\n",
       "0    Joanna Rusch  1666374933946   \n",
       "1     Chad Larson  1666373448613   \n",
       "2     Chad Larson  1666373216381   \n",
       "3     Scott Pence  1666373164883   \n",
       "4     Chad Larson  1666373111157   \n",
       "..            ...            ...   \n",
       "218   Scott Pence  1615855643693   \n",
       "219   Scott Pence  1615855620614   \n",
       "220   Chad Larson  1615854725212   \n",
       "221   Chad Larson  1615854680797   \n",
       "222   Chad Larson  1615854650355   \n",
       "\n",
       "                                               content  \\\n",
       "0    Maybe he just wants to ride the publicity for ...   \n",
       "1    To be fair to Hans....no one wants to be assoc...   \n",
       "2    He would have to prove he didn't cheat and tha...   \n",
       "3    Yeah, no way. You over shoot and hope to get a...   \n",
       "4    From what I see, I don't think he could win.  ...   \n",
       "..                                                 ...   \n",
       "218                              Thank you, thank you.   \n",
       "219                                                NaN   \n",
       "220  Chad Larson added Angela Babbitt Pence to the ...   \n",
       "221  Scott studied my games, did a specific opening...   \n",
       "222                   Chad named the group Chess Buds.   \n",
       "\n",
       "                                             reactions       type share  \\\n",
       "0    [{'reaction': 'ð', 'actor': 'Chad Larson'},...    Generic   NaN   \n",
       "1    [{'reaction': 'ð', 'actor': 'Scott Pence'},...    Generic   NaN   \n",
       "2    [{'reaction': 'ð', 'actor': 'Scott Pence'},...    Generic   NaN   \n",
       "3    [{'reaction': 'ð', 'actor': 'Chad Larson'},...    Generic   NaN   \n",
       "4                                                  NaN    Generic   NaN   \n",
       "..                                                 ...        ...   ...   \n",
       "218                                                NaN    Generic   NaN   \n",
       "219     [{'reaction': 'ð', 'actor': 'Chad Larson'}]    Generic   NaN   \n",
       "220                                                NaN  Subscribe   NaN   \n",
       "221                                                NaN    Generic   NaN   \n",
       "222                                                NaN    Generic   NaN   \n",
       "\n",
       "    photos                                               gifs  \\\n",
       "0      NaN                                                NaN   \n",
       "1      NaN                                                NaN   \n",
       "2      NaN                                                NaN   \n",
       "3      NaN                                                NaN   \n",
       "4      NaN                                                NaN   \n",
       "..     ...                                                ...   \n",
       "218    NaN                                                NaN   \n",
       "219    NaN  [{'uri': 'messages/inbox/chessbuds_npjakt9u1g/...   \n",
       "220    NaN                                                NaN   \n",
       "221    NaN                                                NaN   \n",
       "222    NaN                                                NaN   \n",
       "\n",
       "                                  users  \n",
       "0                                   NaN  \n",
       "1                                   NaN  \n",
       "2                                   NaN  \n",
       "3                                   NaN  \n",
       "4                                   NaN  \n",
       "..                                  ...  \n",
       "218                                 NaN  \n",
       "219                                 NaN  \n",
       "220  [{'name': 'Angela Babbitt Pence'}]  \n",
       "221                                 NaN  \n",
       "222                                 NaN  \n",
       "\n",
       "[223 rows x 9 columns]"
      ]
     },
     "execution_count": 27,
     "metadata": {},
     "output_type": "execute_result"
    }
   ],
   "source": [
    "cm_df_tidy"
   ]
  },
  {
   "cell_type": "markdown",
   "id": "63ebb1dc-8836-4f01-b8d6-a0019678ed90",
   "metadata": {},
   "source": [
    "### The three removed columns do not contribute as much to the dataframe, since the bumped_message_metadata column is the same as the content one and is_unsent and is_taken_down do not give more information besides whether or not the message is still on the platform since they are still in the data sample.\n",
    "\n",
    "### The rows represent each message sent by a user, and each column represents who sent it, when, the content of the message and the engagement from other users as well as whether or not it is a generic message or a subscription to a user, a link, photo, gif or even which person was subscribed to."
   ]
  },
  {
   "cell_type": "code",
   "execution_count": 29,
   "id": "57450d98-bb63-4c12-8ee8-493d384c2e24",
   "metadata": {},
   "outputs": [],
   "source": [
    "cm_df_tidy = cm_df_tidy[cm_df_tidy.type == 'Generic']"
   ]
  },
  {
   "cell_type": "code",
   "execution_count": 30,
   "id": "010b532f-7402-4b90-a8e2-677112522202",
   "metadata": {},
   "outputs": [
    {
     "data": {
      "text/html": [
       "<div>\n",
       "<style scoped>\n",
       "    .dataframe tbody tr th:only-of-type {\n",
       "        vertical-align: middle;\n",
       "    }\n",
       "\n",
       "    .dataframe tbody tr th {\n",
       "        vertical-align: top;\n",
       "    }\n",
       "\n",
       "    .dataframe thead th {\n",
       "        text-align: right;\n",
       "    }\n",
       "</style>\n",
       "<table border=\"1\" class=\"dataframe\">\n",
       "  <thead>\n",
       "    <tr style=\"text-align: right;\">\n",
       "      <th></th>\n",
       "      <th>sender_name</th>\n",
       "      <th>timestamp_ms</th>\n",
       "      <th>content</th>\n",
       "      <th>reactions</th>\n",
       "      <th>type</th>\n",
       "      <th>share</th>\n",
       "      <th>photos</th>\n",
       "      <th>gifs</th>\n",
       "      <th>users</th>\n",
       "    </tr>\n",
       "  </thead>\n",
       "  <tbody>\n",
       "    <tr>\n",
       "      <th>0</th>\n",
       "      <td>Joanna Rusch</td>\n",
       "      <td>1666374933946</td>\n",
       "      <td>Maybe he just wants to ride the publicity for ...</td>\n",
       "      <td>[{'reaction': 'ð', 'actor': 'Chad Larson'},...</td>\n",
       "      <td>Generic</td>\n",
       "      <td>NaN</td>\n",
       "      <td>NaN</td>\n",
       "      <td>NaN</td>\n",
       "      <td>NaN</td>\n",
       "    </tr>\n",
       "    <tr>\n",
       "      <th>1</th>\n",
       "      <td>Chad Larson</td>\n",
       "      <td>1666373448613</td>\n",
       "      <td>To be fair to Hans....no one wants to be assoc...</td>\n",
       "      <td>[{'reaction': 'ð', 'actor': 'Scott Pence'},...</td>\n",
       "      <td>Generic</td>\n",
       "      <td>NaN</td>\n",
       "      <td>NaN</td>\n",
       "      <td>NaN</td>\n",
       "      <td>NaN</td>\n",
       "    </tr>\n",
       "    <tr>\n",
       "      <th>2</th>\n",
       "      <td>Chad Larson</td>\n",
       "      <td>1666373216381</td>\n",
       "      <td>He would have to prove he didn't cheat and tha...</td>\n",
       "      <td>[{'reaction': 'ð', 'actor': 'Scott Pence'},...</td>\n",
       "      <td>Generic</td>\n",
       "      <td>NaN</td>\n",
       "      <td>NaN</td>\n",
       "      <td>NaN</td>\n",
       "      <td>NaN</td>\n",
       "    </tr>\n",
       "    <tr>\n",
       "      <th>3</th>\n",
       "      <td>Scott Pence</td>\n",
       "      <td>1666373164883</td>\n",
       "      <td>Yeah, no way. You over shoot and hope to get a...</td>\n",
       "      <td>[{'reaction': 'ð', 'actor': 'Chad Larson'},...</td>\n",
       "      <td>Generic</td>\n",
       "      <td>NaN</td>\n",
       "      <td>NaN</td>\n",
       "      <td>NaN</td>\n",
       "      <td>NaN</td>\n",
       "    </tr>\n",
       "    <tr>\n",
       "      <th>4</th>\n",
       "      <td>Chad Larson</td>\n",
       "      <td>1666373111157</td>\n",
       "      <td>From what I see, I don't think he could win.  ...</td>\n",
       "      <td>NaN</td>\n",
       "      <td>Generic</td>\n",
       "      <td>NaN</td>\n",
       "      <td>NaN</td>\n",
       "      <td>NaN</td>\n",
       "      <td>NaN</td>\n",
       "    </tr>\n",
       "    <tr>\n",
       "      <th>...</th>\n",
       "      <td>...</td>\n",
       "      <td>...</td>\n",
       "      <td>...</td>\n",
       "      <td>...</td>\n",
       "      <td>...</td>\n",
       "      <td>...</td>\n",
       "      <td>...</td>\n",
       "      <td>...</td>\n",
       "      <td>...</td>\n",
       "    </tr>\n",
       "    <tr>\n",
       "      <th>217</th>\n",
       "      <td>Scott Pence</td>\n",
       "      <td>1615855703137</td>\n",
       "      <td>Just wait until I have the black piece. I stil...</td>\n",
       "      <td>[{'reaction': 'ð', 'actor': 'Chad Larson'}]</td>\n",
       "      <td>Generic</td>\n",
       "      <td>NaN</td>\n",
       "      <td>NaN</td>\n",
       "      <td>NaN</td>\n",
       "      <td>NaN</td>\n",
       "    </tr>\n",
       "    <tr>\n",
       "      <th>218</th>\n",
       "      <td>Scott Pence</td>\n",
       "      <td>1615855643693</td>\n",
       "      <td>Thank you, thank you.</td>\n",
       "      <td>NaN</td>\n",
       "      <td>Generic</td>\n",
       "      <td>NaN</td>\n",
       "      <td>NaN</td>\n",
       "      <td>NaN</td>\n",
       "      <td>NaN</td>\n",
       "    </tr>\n",
       "    <tr>\n",
       "      <th>219</th>\n",
       "      <td>Scott Pence</td>\n",
       "      <td>1615855620614</td>\n",
       "      <td>NaN</td>\n",
       "      <td>[{'reaction': 'ð', 'actor': 'Chad Larson'}]</td>\n",
       "      <td>Generic</td>\n",
       "      <td>NaN</td>\n",
       "      <td>NaN</td>\n",
       "      <td>[{'uri': 'messages/inbox/chessbuds_npjakt9u1g/...</td>\n",
       "      <td>NaN</td>\n",
       "    </tr>\n",
       "    <tr>\n",
       "      <th>221</th>\n",
       "      <td>Chad Larson</td>\n",
       "      <td>1615854680797</td>\n",
       "      <td>Scott studied my games, did a specific opening...</td>\n",
       "      <td>NaN</td>\n",
       "      <td>Generic</td>\n",
       "      <td>NaN</td>\n",
       "      <td>NaN</td>\n",
       "      <td>NaN</td>\n",
       "      <td>NaN</td>\n",
       "    </tr>\n",
       "    <tr>\n",
       "      <th>222</th>\n",
       "      <td>Chad Larson</td>\n",
       "      <td>1615854650355</td>\n",
       "      <td>Chad named the group Chess Buds.</td>\n",
       "      <td>NaN</td>\n",
       "      <td>Generic</td>\n",
       "      <td>NaN</td>\n",
       "      <td>NaN</td>\n",
       "      <td>NaN</td>\n",
       "      <td>NaN</td>\n",
       "    </tr>\n",
       "  </tbody>\n",
       "</table>\n",
       "<p>199 rows × 9 columns</p>\n",
       "</div>"
      ],
      "text/plain": [
       "      sender_name   timestamp_ms  \\\n",
       "0    Joanna Rusch  1666374933946   \n",
       "1     Chad Larson  1666373448613   \n",
       "2     Chad Larson  1666373216381   \n",
       "3     Scott Pence  1666373164883   \n",
       "4     Chad Larson  1666373111157   \n",
       "..            ...            ...   \n",
       "217   Scott Pence  1615855703137   \n",
       "218   Scott Pence  1615855643693   \n",
       "219   Scott Pence  1615855620614   \n",
       "221   Chad Larson  1615854680797   \n",
       "222   Chad Larson  1615854650355   \n",
       "\n",
       "                                               content  \\\n",
       "0    Maybe he just wants to ride the publicity for ...   \n",
       "1    To be fair to Hans....no one wants to be assoc...   \n",
       "2    He would have to prove he didn't cheat and tha...   \n",
       "3    Yeah, no way. You over shoot and hope to get a...   \n",
       "4    From what I see, I don't think he could win.  ...   \n",
       "..                                                 ...   \n",
       "217  Just wait until I have the black piece. I stil...   \n",
       "218                              Thank you, thank you.   \n",
       "219                                                NaN   \n",
       "221  Scott studied my games, did a specific opening...   \n",
       "222                   Chad named the group Chess Buds.   \n",
       "\n",
       "                                             reactions     type share photos  \\\n",
       "0    [{'reaction': 'ð', 'actor': 'Chad Larson'},...  Generic   NaN    NaN   \n",
       "1    [{'reaction': 'ð', 'actor': 'Scott Pence'},...  Generic   NaN    NaN   \n",
       "2    [{'reaction': 'ð', 'actor': 'Scott Pence'},...  Generic   NaN    NaN   \n",
       "3    [{'reaction': 'ð', 'actor': 'Chad Larson'},...  Generic   NaN    NaN   \n",
       "4                                                  NaN  Generic   NaN    NaN   \n",
       "..                                                 ...      ...   ...    ...   \n",
       "217     [{'reaction': 'ð', 'actor': 'Chad Larson'}]  Generic   NaN    NaN   \n",
       "218                                                NaN  Generic   NaN    NaN   \n",
       "219     [{'reaction': 'ð', 'actor': 'Chad Larson'}]  Generic   NaN    NaN   \n",
       "221                                                NaN  Generic   NaN    NaN   \n",
       "222                                                NaN  Generic   NaN    NaN   \n",
       "\n",
       "                                                  gifs users  \n",
       "0                                                  NaN   NaN  \n",
       "1                                                  NaN   NaN  \n",
       "2                                                  NaN   NaN  \n",
       "3                                                  NaN   NaN  \n",
       "4                                                  NaN   NaN  \n",
       "..                                                 ...   ...  \n",
       "217                                                NaN   NaN  \n",
       "218                                                NaN   NaN  \n",
       "219  [{'uri': 'messages/inbox/chessbuds_npjakt9u1g/...   NaN  \n",
       "221                                                NaN   NaN  \n",
       "222                                                NaN   NaN  \n",
       "\n",
       "[199 rows x 9 columns]"
      ]
     },
     "execution_count": 30,
     "metadata": {},
     "output_type": "execute_result"
    }
   ],
   "source": [
    "cm_df_tidy"
   ]
  },
  {
   "cell_type": "markdown",
   "id": "87f36844-be59-45ef-9653-3ff9e149bb14",
   "metadata": {},
   "source": [
    "## The dataframe is now further refined to remove the share and subscribe input as 'each type of observational unit forms a table', meaning it'd be best to focus on one type of input instead of three different ones. Thus, only Generic is retained.\n",
    "\n",
    "## This dataframe meets tidy data principles since:\n",
    "#### - Each variable forms a column: Every column in this dataframe is a different variable.\n",
    "#### - Each observation forms a row: Every row in this dataframe constitues a different input from a user, more specifically a message, whether it was a text message, a link, a photo or a gif, or any combination of those four is represented by the columns, what matters is the input since it can explain engagement around certain times and certain events in the chess world.\n",
    "#### - Each type of observational unit forms a table: This dataframe is a table representing when and how users in the chess world react or interact with others based on the timestamp.\n",
    "\n",
    "## Another acceptable format would focus around the 'type' where it is a subscription rather than a generic message, and would focus on explaining when and why certain people might've chosen to follow another person's posts."
   ]
  },
  {
   "cell_type": "markdown",
   "id": "ebb7ce42-6181-4d9e-81e7-4c74ab07a8e0",
   "metadata": {},
   "source": [
    "## One such format which would allow visualization would be a Box and Whisker plot which would take time slots and explain the upper and lower end of the amount of messsages sent during those times, allowing someone to understand times of high messaging trafic and thus plan accordingly. They could use the timestamp to know when the highest traffic of users and messages would happen."
   ]
  },
  {
   "cell_type": "code",
   "execution_count": null,
   "id": "d4422172-d271-4c79-bf9c-f15956b669c8",
   "metadata": {},
   "outputs": [],
   "source": []
  }
 ],
 "metadata": {
  "kernelspec": {
   "display_name": "Python 3 (ipykernel)",
   "language": "python",
   "name": "python3"
  },
  "language_info": {
   "codemirror_mode": {
    "name": "ipython",
    "version": 3
   },
   "file_extension": ".py",
   "mimetype": "text/x-python",
   "name": "python",
   "nbconvert_exporter": "python",
   "pygments_lexer": "ipython3",
   "version": "3.11.7"
  }
 },
 "nbformat": 4,
 "nbformat_minor": 5
}
