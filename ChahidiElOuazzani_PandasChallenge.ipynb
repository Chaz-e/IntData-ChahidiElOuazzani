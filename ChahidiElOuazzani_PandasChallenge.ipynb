{
 "cells": [
  {
   "cell_type": "code",
   "execution_count": 39,
   "id": "73a10460-19fe-435e-a851-d5b73d2b6b6b",
   "metadata": {},
   "outputs": [],
   "source": [
    "import numpy as np\n",
    "from numpy import random\n",
    "import pandas as pd"
   ]
  },
  {
   "cell_type": "code",
   "execution_count": null,
   "id": "915e9661-caf8-4e02-9c2d-247bf9cb1259",
   "metadata": {},
   "outputs": [],
   "source": [
    "dates = pd.date_range(\"20240824\", periods=3)"
   ]
  },
  {
   "cell_type": "code",
   "execution_count": 61,
   "id": "7de3face-54c2-4507-97e6-5ecc8b71b9c2",
   "metadata": {},
   "outputs": [],
   "source": [
    "s1 = pd.DataFrame (\n",
    "    {\n",
    "        \"A\": pd.DatetimeIndex(['2024-08-24', '2024-08-25', '2024-08-26']),\n",
    "        \"B\": random.rand(3),\n",
    "        \"C\": pd.Categorical([\"This\", \"is\", \"fun.\"])\n",
    "    }\n",
    ")"
   ]
  },
  {
   "cell_type": "code",
   "execution_count": 63,
   "id": "6d782fc6-1125-4986-b58b-566fa2c1081f",
   "metadata": {},
   "outputs": [
    {
     "data": {
      "text/html": [
       "<div>\n",
       "<style scoped>\n",
       "    .dataframe tbody tr th:only-of-type {\n",
       "        vertical-align: middle;\n",
       "    }\n",
       "\n",
       "    .dataframe tbody tr th {\n",
       "        vertical-align: top;\n",
       "    }\n",
       "\n",
       "    .dataframe thead th {\n",
       "        text-align: right;\n",
       "    }\n",
       "</style>\n",
       "<table border=\"1\" class=\"dataframe\">\n",
       "  <thead>\n",
       "    <tr style=\"text-align: right;\">\n",
       "      <th></th>\n",
       "      <th>A</th>\n",
       "      <th>B</th>\n",
       "      <th>C</th>\n",
       "    </tr>\n",
       "  </thead>\n",
       "  <tbody>\n",
       "    <tr>\n",
       "      <th>0</th>\n",
       "      <td>2024-08-24</td>\n",
       "      <td>0.704830</td>\n",
       "      <td>This</td>\n",
       "    </tr>\n",
       "    <tr>\n",
       "      <th>1</th>\n",
       "      <td>2024-08-25</td>\n",
       "      <td>0.510446</td>\n",
       "      <td>is</td>\n",
       "    </tr>\n",
       "    <tr>\n",
       "      <th>2</th>\n",
       "      <td>2024-08-26</td>\n",
       "      <td>0.793576</td>\n",
       "      <td>fun.</td>\n",
       "    </tr>\n",
       "  </tbody>\n",
       "</table>\n",
       "</div>"
      ],
      "text/plain": [
       "           A         B     C\n",
       "0 2024-08-24  0.704830  This\n",
       "1 2024-08-25  0.510446    is\n",
       "2 2024-08-26  0.793576  fun."
      ]
     },
     "execution_count": 63,
     "metadata": {},
     "output_type": "execute_result"
    }
   ],
   "source": [
    "s1.head()"
   ]
  },
  {
   "cell_type": "code",
   "execution_count": 65,
   "id": "791a293e-fec6-43e8-9860-b8b192c0b751",
   "metadata": {},
   "outputs": [
    {
     "data": {
      "text/plain": [
       "RangeIndex(start=0, stop=3, step=1)"
      ]
     },
     "execution_count": 65,
     "metadata": {},
     "output_type": "execute_result"
    }
   ],
   "source": [
    "s1.index"
   ]
  },
  {
   "cell_type": "code",
   "execution_count": 67,
   "id": "b5413906-1e65-4731-a72b-20420bc6bbd8",
   "metadata": {},
   "outputs": [
    {
     "data": {
      "text/plain": [
       "0   2024-08-24\n",
       "1   2024-08-25\n",
       "2   2024-08-26\n",
       "Name: A, dtype: datetime64[ns]"
      ]
     },
     "execution_count": 67,
     "metadata": {},
     "output_type": "execute_result"
    }
   ],
   "source": [
    "s1[\"A\"]"
   ]
  },
  {
   "cell_type": "code",
   "execution_count": 75,
   "id": "b084bd24-831e-4577-a8cd-6f3e83370dd8",
   "metadata": {},
   "outputs": [
    {
     "data": {
      "text/plain": [
       "A    2024-08-24 00:00:00\n",
       "B                0.70483\n",
       "C                   This\n",
       "Name: 0, dtype: object"
      ]
     },
     "execution_count": 75,
     "metadata": {},
     "output_type": "execute_result"
    }
   ],
   "source": [
    "s1.iloc[0]"
   ]
  },
  {
   "cell_type": "code",
   "execution_count": 81,
   "id": "6255d124-c77b-4356-a516-b6b2433dbb9b",
   "metadata": {},
   "outputs": [],
   "source": [
    "s1.to_csv('ChahidiElOuazzani_PandasAssignment.zip', index=False)"
   ]
  },
  {
   "cell_type": "markdown",
   "id": "a7f2b7c7-8ec0-43f9-b08b-b0bdbc76335f",
   "metadata": {},
   "source": [
    "# Why are dynamic, interactive data visualizations useful when communicating data?\n",
    "\n",
    "### ***\" Overview first, zoom and filter, then details-on-demand. \"*** ~ Ben Shneiderman, 1996\n",
    "\n",
    "\n",
    "#### Dynamic, interactive visualizations can empower people to explore the data for themselves by putting it up in front of them so they may see it firsthand rather than a mess of numbers and words without much meaning. Someone who has a specific question in mind would not and should not sit for hours on end trying to make sense of raw data and instead read the processed visualizations. But then, why interactive or dynamic? It is because there may be multiple different dimensions to data, dimensions and metrics that not everyone needs, and often times the sheer volume of indexes can clutter everything, making it incredibly difficult to decipher a visualization."
   ]
  },
  {
   "cell_type": "code",
   "execution_count": null,
   "id": "7a92b831-43d2-4b3b-b162-b019ea6ceaef",
   "metadata": {},
   "outputs": [],
   "source": []
  }
 ],
 "metadata": {
  "kernelspec": {
   "display_name": "Python 3 (ipykernel)",
   "language": "python",
   "name": "python3"
  },
  "language_info": {
   "codemirror_mode": {
    "name": "ipython",
    "version": 3
   },
   "file_extension": ".py",
   "mimetype": "text/x-python",
   "name": "python",
   "nbconvert_exporter": "python",
   "pygments_lexer": "ipython3",
   "version": "3.11.7"
  }
 },
 "nbformat": 4,
 "nbformat_minor": 5
}
